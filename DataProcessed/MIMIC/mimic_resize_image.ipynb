{
 "cells": [
  {
   "cell_type": "code",
   "execution_count": 4,
   "metadata": {},
   "outputs": [],
   "source": [
    "# image_path\n",
    "# If you want to perform image scaling operations on the training set, use train_data, otherwise use test_data \n",
    "import os\n",
    "train_data = \"train_data.txt\"\n",
    "test_data = \"test_data.txt\""
   ]
  },
  {
   "cell_type": "markdown",
   "metadata": {},
   "source": [
    "#### 1. The directory path to read the image"
   ]
  },
  {
   "cell_type": "code",
   "execution_count": 5,
   "metadata": {},
   "outputs": [],
   "source": [
    "root = \"./\"\n",
    "train_data_path = [] # Put the contents of train_data.txt into the list (the directory path of the picture) \n",
    "with open(os.path.join(root,train_data),\"r\",encoding=\"utf-8\") as fr:\n",
    "    train_data_list = fr.readlines()\n",
    "for i in range(len(train_data_list)):\n",
    "    if train_data_list[i][-1] == '\\n':\n",
    "        train_data_path.append(train_data_list[i][:-1])\n",
    "    else :\n",
    "        train_data_path.append(train_data_list[i])"
   ]
  },
  {
   "cell_type": "markdown",
   "metadata": {},
   "source": [
    "#### 2. Get all the jpg image paths in the image directory (list of list format) "
   ]
  },
  {
   "cell_type": "code",
   "execution_count": 6,
   "metadata": {},
   "outputs": [],
   "source": [
    "train_images = []\n",
    "for path in train_data_path:\n",
    "    # root refers to the current directory path (absolute path of the folder) \n",
    "    # dirs refers to all subdirectories (folders in folders) under the path \n",
    "    # files refers to all files under the path (all files in the folder) \n",
    "    for root, dirs, files in os.walk(path):\n",
    "        images_temp = []\n",
    "        for file in files:\n",
    "            if os.path.splitext(file)[1] == '.jpg':\n",
    "                images_temp.append(os.path.join(root, file))\n",
    "    train_images.append(images_temp)"
   ]
  },
  {
   "cell_type": "markdown",
   "metadata": {},
   "source": [
    "#### 3. Change the format of list of list to list "
   ]
  },
  {
   "cell_type": "code",
   "execution_count": 7,
   "metadata": {},
   "outputs": [],
   "source": [
    "new_train_images = [] # The list contains the specific path of all jpg pictures \n",
    "for i in range(len(train_images)):\n",
    "    if len(train_images[i]) > 1:\n",
    "        for j in range(len(train_images[i])):\n",
    "            new_train_images.append(train_images[i][j])\n",
    "    else:\n",
    "        new_train_images.append(train_images[i][0])"
   ]
  },
  {
   "cell_type": "markdown",
   "metadata": {},
   "source": [
    "#### 4. Zoom the picture and write it to the original directory "
   ]
  },
  {
   "cell_type": "code",
   "execution_count": null,
   "metadata": {},
   "outputs": [],
   "source": [
    "# Function: zoom the picture and write it in the same directory \n",
    "# Parameters: path is a list, which contains the path of the picture, accurate to jpg, not the directory of the picture \n",
    "# Return: None. Just write to the same directory \n",
    "def resize_img(path):\n",
    "    new_path = path.replace('.jpg', '-small.jpg')\n",
    "    img = cv2.imread(path)\n",
    "    h, w, _ = img.shape\n",
    "    if h <= w:\n",
    "        ratio = 320. / h\n",
    "        new_h = 320\n",
    "        new_w = int(w * ratio)\n",
    "    else:\n",
    "        ratio = 320. / w\n",
    "        new_h = int(h * ratio)\n",
    "        new_w = 320\n",
    "    img = cv2.resize(img, (new_w, new_h))\n",
    "    cv2.imwrite(new_path, img)"
   ]
  },
  {
   "cell_type": "code",
   "execution_count": null,
   "metadata": {},
   "outputs": [],
   "source": [
    "pool = ThreadPool(64)\n",
    "pool.map(resize_img, new_train_images)"
   ]
  }
 ],
 "metadata": {
  "kernelspec": {
   "display_name": "Python 3",
   "language": "python",
   "name": "python3"
  },
  "language_info": {
   "codemirror_mode": {
    "name": "ipython",
    "version": 3
   },
   "file_extension": ".py",
   "mimetype": "text/x-python",
   "name": "python",
   "nbconvert_exporter": "python",
   "pygments_lexer": "ipython3",
   "version": "3.6.12"
  }
 },
 "nbformat": 4,
 "nbformat_minor": 4
}
