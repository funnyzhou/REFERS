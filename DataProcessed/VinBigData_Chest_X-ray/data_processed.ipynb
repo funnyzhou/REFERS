{
 "cells": [
  {
   "cell_type": "code",
   "execution_count": null,
   "metadata": {},
   "outputs": [],
   "source": [
    "import numpy as np # linear algebra\n",
    "import pandas as pd # data processing, CSV file I/O (e.g. pd.read_csv)\n",
    "from PIL import Image\n",
    "import pydicom as dicom\n",
    "import matplotlib.pylab as plt\n",
    "import cv2\n",
    "import itertools\n",
    "import time\n",
    "# from skimage.transform import resize\n",
    "from skimage import transform\n",
    "import SimpleITK as sitk\n",
    "# Input data files are available in the read-only \"../input/\" directory\n",
    "# For example, running this (by clicking run or pressing Shift+Enter) will list all files under the input directory\n",
    "import pydicom\n",
    "import os"
   ]
  },
  {
   "cell_type": "code",
   "execution_count": null,
   "metadata": {},
   "outputs": [],
   "source": [
    "# Creating diretories for the final dump outside of the kaggle/working\n",
    "in_dirs = ['./train/', './test/']\n",
    "out_dirs = ['./converted_train_images/', './converted_test_images/']"
   ]
  },
  {
   "cell_type": "code",
   "execution_count": null,
   "metadata": {},
   "outputs": [],
   "source": [
    "def image_processor(input_dir, output_dir, basewidth = 512, baseheight = 512): \n",
    "    file_list = [f for f in os.listdir(input_dir)]\n",
    "    for f in file_list: \n",
    "        file = sitk.ReadImage(input_dir + f)\n",
    "        img = sitk.GetArrayFromImage(file)[0]\n",
    "        # Rescaling image array brightness\n",
    "        img_rescaled = (img / np.max(img) * 255)\n",
    "        # Resizing image array dimensions\n",
    "        img_resized = transform.rescale(img_rescaled, [0.25,0.25])\n",
    "        # Creating new png path\n",
    "        new_path = output_dir + f.replace('.dicom', '.png')\n",
    "        # Writing image to path\n",
    "        cv2.imwrite(new_path ,img_resized) # write png image "
   ]
  },
  {
   "cell_type": "code",
   "execution_count": null,
   "metadata": {},
   "outputs": [],
   "source": [
    "# Doing it the least pythonic way possible since I want to eliminate any issues causing my output files to not be generated\n",
    "image_processor(input_dir= in_dirs[0], output_dir= out_dirs[0])"
   ]
  }
 ],
 "metadata": {
  "kernelspec": {
   "display_name": "Python 3",
   "language": "python",
   "name": "python3"
  },
  "language_info": {
   "codemirror_mode": {
    "name": "ipython",
    "version": 3
   },
   "file_extension": ".py",
   "mimetype": "text/x-python",
   "name": "python",
   "nbconvert_exporter": "python",
   "pygments_lexer": "ipython3",
   "version": "3.6.12"
  }
 },
 "nbformat": 4,
 "nbformat_minor": 4
}
